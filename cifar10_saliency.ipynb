{
 "cells": [
  {
   "cell_type": "code",
   "execution_count": 1,
   "metadata": {},
   "outputs": [],
   "source": [
    "import numpy as np\n",
    "from matplotlib import pyplot as plt\n",
    "from IPython import display\n",
    "\n",
    "from keras.datasets import cifar10\n",
    "from keras.models import Sequential, load_model\n",
    "from keras.layers import Conv2D,Activation,MaxPooling2D,Dropout,Flatten,Dense\n",
    "from keras.optimizers import SGD, Adam\n",
    "from keras.utils import to_categorical\n",
    "\n",
    "import os.path\n",
    "\n",
    "from sklearn.gaussian_process import GaussianProcessRegressor\n",
    "from sklearn.gaussian_process.kernels import RBF, Matern"
   ]
  },
  {
   "cell_type": "code",
   "execution_count": 2,
   "metadata": {},
   "outputs": [],
   "source": [
    "#load some data\n",
    "(x_train, y_train), (x_test, y_test) = cifar10.load_data()"
   ]
  },
  {
   "cell_type": "code",
   "execution_count": 3,
   "metadata": {},
   "outputs": [],
   "source": [
    "# Define a simple CNN\n",
    "def base_model():\n",
    "\n",
    "    model = Sequential()\n",
    "    model.add(Conv2D(32, (3, 3), padding='same', input_shape=x_train.shape[1:]))\n",
    "    model.add(Activation('relu'))\n",
    "    model.add(Conv2D(32,(3, 3)))\n",
    "    model.add(Activation('relu'))\n",
    "    model.add(MaxPooling2D(pool_size=(2, 2)))\n",
    "    model.add(Dropout(0.25))\n",
    "\n",
    "    model.add(Conv2D(64, (3, 3), padding='same'))\n",
    "    model.add(Activation('relu'))\n",
    "    model.add(Conv2D(64, (3,3)))\n",
    "    model.add(Activation('relu'))\n",
    "    model.add(MaxPooling2D(pool_size=(2, 2)))\n",
    "    model.add(Dropout(0.25))\n",
    "\n",
    "    model.add(Flatten())\n",
    "    model.add(Dense(512))\n",
    "    model.add(Activation('relu'))\n",
    "    model.add(Dropout(0.5))\n",
    "    model.add(Dense(10))\n",
    "    model.add(Activation('softmax'))\n",
    "\n",
    "    sgd = Adam()\n",
    "\n",
    "    model.compile(loss='categorical_crossentropy', optimizer=sgd, metrics=['accuracy'])\n",
    "    return model"
   ]
  },
  {
   "cell_type": "code",
   "execution_count": null,
   "metadata": {},
   "outputs": [
    {
     "name": "stdout",
     "output_type": "stream",
     "text": [
      "Epoch 1/20\n",
      "196/196 [==============================] - 72s 369ms/step - loss: 1.7212 - accuracy: 0.3633 - val_loss: 1.3586 - val_accuracy: 0.5097\n",
      "Epoch 2/20\n",
      "196/196 [==============================] - 74s 379ms/step - loss: 1.3315 - accuracy: 0.5204 - val_loss: 1.1711 - val_accuracy: 0.5820\n",
      "Epoch 3/20\n",
      "196/196 [==============================] - 72s 365ms/step - loss: 1.1683 - accuracy: 0.5845 - val_loss: 1.0946 - val_accuracy: 0.6154\n",
      "Epoch 4/20\n",
      " 51/196 [======>.......................] - ETA: 51s - loss: 1.0663 - accuracy: 0.6203"
     ]
    }
   ],
   "source": [
    "# Load or train cnn for cifar10 classification\n",
    "if os.path.isfile('cnn.h5'):\n",
    "    cnn_n = load_model('cnn.h5')\n",
    "else:\n",
    "    cnn_n = base_model()\n",
    "    cnn_n.fit(x_train/255.0,to_categorical(y_train),validation_data=(x_test/255.0,to_categorical(y_test)),epochs=20,batch_size=256)\n",
    "    cnn_n.save('cnn.h5')"
   ]
  },
  {
   "cell_type": "code",
   "execution_count": null,
   "metadata": {
    "scrolled": true
   },
   "outputs": [],
   "source": [
    "#Sample random test image\n",
    "idx = 3976#np.random.randint(x_test.shape[0])\n",
    "im = x_test[idx,:]\n",
    "plt.figure(figsize=(15,5))\n",
    "plt.imshow(im)\n",
    "plt.show()"
   ]
  },
  {
   "cell_type": "code",
   "execution_count": null,
   "metadata": {},
   "outputs": [],
   "source": [
    "# Create sampling grid (position, and blanking window size)\n",
    "x,y,w,h = np.meshgrid(np.linspace(0,32,32),np.linspace(0,32,32),np.linspace(1,8,7),np.linspace(1,8,7))\n",
    "\n",
    "X = np.vstack((x.ravel(),y.ravel(),w.ravel(),h.ravel())).T\n",
    "\n",
    "# Storage for samples\n",
    "Xm = []\n",
    "fm = []\n",
    "\n",
    "# First sample\n",
    "state = X[np.random.randint(0,X.shape[0]),:].astype(int)\n",
    "Xm.append(state)\n",
    "\n",
    "fig, ax = plt.subplots(1,3,figsize=(15,5))\n",
    "\n",
    "base_prob = cnn_n.predict(im.reshape(1,32,32,3)/255.0)[0][y_test[idx]] # Base class probability \n",
    "for i in range(150):\n",
    "    \n",
    "    # Blank image at sample location\n",
    "    im_b = im.copy()\n",
    "    im_b[max(state[0]-state[2],0):min(32,state[0]+state[2]),max(state[1]-state[3],0):min(32,state[1]+state[3])] = 0\n",
    "    \n",
    "    # Determine change in logit\n",
    "    logit = cnn_n.predict(im_b.reshape(1,32,32,3)/255.0)[0][y_test[idx]]\n",
    " \n",
    "    fm.append(base_prob-logit)\n",
    "    \n",
    "    # Fit surrgate model\n",
    "    gp = GaussianProcessRegressor(kernel=Matern(length_scale_bounds=[1,5],length_scale=[3,3,2,2],nu=1.5),alpha=0.05)\n",
    "    gp.fit(np.array(Xm),np.array(fm))\n",
    "    \n",
    "    mu,sig = gp.predict(X,return_std=True)\n",
    "    \n",
    "    # Choose next blanking point, trading off exploration and exploitation\n",
    "    aq_bin = np.argmax(1.5*sig.reshape(-1,1)+mu)\n",
    "    \n",
    "    state = X[aq_bin].astype(int)\n",
    "    \n",
    "    Xm.append(state+np.random.randn(4,)*[1,1,0.5,0.5]) # Add some jitter so we aren't stuck to grid\n",
    "    \n",
    "    ov = mu.reshape(32,32,7,7) # Generate saliency map (change in probability over all params)\n",
    "    \n",
    "    # Take expectation over box sizes\n",
    "    ov = np.mean(ov,axis=-1)\n",
    "    ov = np.mean(ov,axis=-1)\n",
    "    \n",
    "    # Plot every 10th sample\n",
    "    ax[0].cla()\n",
    "    ax[0].imshow(im_b)\n",
    "    ax[0].plot(np.array(Xm)[:-2,1],np.array(Xm)[:-2,0],'*')\n",
    "    ax[0].plot(np.array(Xm)[-2,1],np.array(Xm)[-2,0],'r*')\n",
    "\n",
    "\n",
    "    ax[1].cla()\n",
    "    ax[1].imshow(im)\n",
    "    ax[1].imshow(ov.T,alpha=0.5)\n",
    "    ax[1].plot(np.array(Xm)[:-2,1],np.array(Xm)[:-2,0],'*')\n",
    "    ax[1].plot(np.array(Xm)[-2,1],np.array(Xm)[-2,0],'r*')\n",
    "    ax[1].set_title('Mean sensitivity')\n",
    "\n",
    "    sxy = np.sum(sig.reshape(32,32,-1),-1)\n",
    "\n",
    "    ax[2].cla()\n",
    "    ot = ax[2].imshow(5*sxy.T+ov.T)\n",
    "    ax[2].plot(np.array(Xm)[:-2,1],np.array(Xm)[:-2,0],'*')\n",
    "    ax[2].plot(np.array(Xm)[-2,1],np.array(Xm)[-2,0],'r*')\n",
    "    ax[2].set_title('Acquisition function')\n",
    "    display.display(plt.gcf())\n",
    "    display.clear_output(wait=True)\n",
    "    "
   ]
  }
 ],
 "metadata": {
  "kernelspec": {
   "display_name": "Python 3",
   "language": "python",
   "name": "python3"
  },
  "language_info": {
   "codemirror_mode": {
    "name": "ipython",
    "version": 3
   },
   "file_extension": ".py",
   "mimetype": "text/x-python",
   "name": "python",
   "nbconvert_exporter": "python",
   "pygments_lexer": "ipython3",
   "version": "3.8.5"
  }
 },
 "nbformat": 4,
 "nbformat_minor": 2
}
